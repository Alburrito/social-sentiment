{
 "cells": [
  {
   "cell_type": "markdown",
   "id": "a6f4b9a5",
   "metadata": {},
   "source": [
    "# Juntar datos"
   ]
  },
  {
   "cell_type": "code",
   "execution_count": 11,
   "id": "cb05e186",
   "metadata": {},
   "outputs": [],
   "source": [
    "import pandas as pd\n",
    "import matplotlib.pyplot as plt\n",
    "import seaborn as sns\n",
    "import re\n",
    "import spacy\n",
    "from spacy.lang.es.stop_words import STOP_WORDS\n",
    "from sklearn.model_selection import train_test_split\n",
    "from sklearn.feature_extraction.text import TfidfVectorizer\n",
    "import pickle\n",
    "from sklearn.ensemble import RandomForestClassifier\n",
    "from sklearn.model_selection import GridSearchCV\n",
    "\n",
    "nlp = spacy.load('es_core_news_md')\n",
    "sns.set(style='whitegrid')"
   ]
  },
  {
   "cell_type": "code",
   "execution_count": 2,
   "id": "060c8dc2",
   "metadata": {},
   "outputs": [
    {
     "data": {
      "text/html": [
       "<div>\n",
       "<style scoped>\n",
       "    .dataframe tbody tr th:only-of-type {\n",
       "        vertical-align: middle;\n",
       "    }\n",
       "\n",
       "    .dataframe tbody tr th {\n",
       "        vertical-align: top;\n",
       "    }\n",
       "\n",
       "    .dataframe thead th {\n",
       "        text-align: right;\n",
       "    }\n",
       "</style>\n",
       "<table border=\"1\" class=\"dataframe\">\n",
       "  <thead>\n",
       "    <tr style=\"text-align: right;\">\n",
       "      <th></th>\n",
       "      <th>sentence</th>\n",
       "      <th>vote</th>\n",
       "    </tr>\n",
       "  </thead>\n",
       "  <tbody>\n",
       "    <tr>\n",
       "      <th>0</th>\n",
       "      <td>NECESITAMOS #ACOGIDA RESPONSABLE PARA WOLF. PO...</td>\n",
       "      <td>Neutra</td>\n",
       "    </tr>\n",
       "    <tr>\n",
       "      <th>1</th>\n",
       "      <td>Internacional de Porto Alegre habría llegado a...</td>\n",
       "      <td>Neutra</td>\n",
       "    </tr>\n",
       "  </tbody>\n",
       "</table>\n",
       "</div>"
      ],
      "text/plain": [
       "                                            sentence    vote\n",
       "0  NECESITAMOS #ACOGIDA RESPONSABLE PARA WOLF. PO...  Neutra\n",
       "1  Internacional de Porto Alegre habría llegado a...  Neutra"
      ]
     },
     "execution_count": 2,
     "metadata": {},
     "output_type": "execute_result"
    }
   ],
   "source": [
    "tgdata = pd.read_csv('tg_bot.csv')\n",
    "tgdata.head(2)"
   ]
  },
  {
   "cell_type": "code",
   "execution_count": 3,
   "id": "c98a2a2f",
   "metadata": {},
   "outputs": [
    {
     "data": {
      "text/plain": [
       "Index(['sentence', 'sentiment'], dtype='object')"
      ]
     },
     "execution_count": 3,
     "metadata": {},
     "output_type": "execute_result"
    }
   ],
   "source": [
    "tgdata.rename(columns = {'vote':'sentiment'}, inplace = True)\n",
    "tgdata.columns"
   ]
  },
  {
   "cell_type": "code",
   "execution_count": 4,
   "id": "6edc1411",
   "metadata": {},
   "outputs": [
    {
     "data": {
      "text/html": [
       "<div>\n",
       "<style scoped>\n",
       "    .dataframe tbody tr th:only-of-type {\n",
       "        vertical-align: middle;\n",
       "    }\n",
       "\n",
       "    .dataframe tbody tr th {\n",
       "        vertical-align: top;\n",
       "    }\n",
       "\n",
       "    .dataframe thead th {\n",
       "        text-align: right;\n",
       "    }\n",
       "</style>\n",
       "<table border=\"1\" class=\"dataframe\">\n",
       "  <thead>\n",
       "    <tr style=\"text-align: right;\">\n",
       "      <th></th>\n",
       "      <th>airline_sentiment</th>\n",
       "      <th>is_reply</th>\n",
       "      <th>reply_count</th>\n",
       "      <th>retweet_count</th>\n",
       "      <th>text</th>\n",
       "      <th>tweet_coord</th>\n",
       "      <th>tweet_created</th>\n",
       "      <th>tweet_id</th>\n",
       "      <th>tweet_location</th>\n",
       "      <th>user_timezone</th>\n",
       "    </tr>\n",
       "  </thead>\n",
       "  <tbody>\n",
       "    <tr>\n",
       "      <th>0</th>\n",
       "      <td>neutral</td>\n",
       "      <td>False</td>\n",
       "      <td>0</td>\n",
       "      <td>0</td>\n",
       "      <td>Trabajar en #Ryanair como #TMA: https://t.co/r...</td>\n",
       "      <td>NaN</td>\n",
       "      <td>Fri Nov 03 12:05:12 +0000 2017</td>\n",
       "      <td>926419989107798016</td>\n",
       "      <td>NaN</td>\n",
       "      <td>Madrid</td>\n",
       "    </tr>\n",
       "    <tr>\n",
       "      <th>1</th>\n",
       "      <td>neutral</td>\n",
       "      <td>True</td>\n",
       "      <td>0</td>\n",
       "      <td>0</td>\n",
       "      <td>@Iberia @FIONAFERRER Cuando gusten en Cancún s...</td>\n",
       "      <td>NaN</td>\n",
       "      <td>Sun Nov 26 18:40:28 +0000 2017</td>\n",
       "      <td>934854385577943041</td>\n",
       "      <td>NaN</td>\n",
       "      <td>Mexico City</td>\n",
       "    </tr>\n",
       "  </tbody>\n",
       "</table>\n",
       "</div>"
      ],
      "text/plain": [
       "  airline_sentiment  is_reply  reply_count  retweet_count  \\\n",
       "0           neutral     False            0              0   \n",
       "1           neutral      True            0              0   \n",
       "\n",
       "                                                text tweet_coord  \\\n",
       "0  Trabajar en #Ryanair como #TMA: https://t.co/r...         NaN   \n",
       "1  @Iberia @FIONAFERRER Cuando gusten en Cancún s...         NaN   \n",
       "\n",
       "                    tweet_created            tweet_id tweet_location  \\\n",
       "0  Fri Nov 03 12:05:12 +0000 2017  926419989107798016            NaN   \n",
       "1  Sun Nov 26 18:40:28 +0000 2017  934854385577943041            NaN   \n",
       "\n",
       "  user_timezone  \n",
       "0        Madrid  \n",
       "1   Mexico City  "
      ]
     },
     "execution_count": 4,
     "metadata": {},
     "output_type": "execute_result"
    }
   ],
   "source": [
    "airlinesdata = pd.read_csv('tweets_public.csv')\n",
    "airlinesdata.head(2)"
   ]
  },
  {
   "cell_type": "code",
   "execution_count": 5,
   "id": "6f5303e0",
   "metadata": {},
   "outputs": [
    {
     "data": {
      "text/html": [
       "<div>\n",
       "<style scoped>\n",
       "    .dataframe tbody tr th:only-of-type {\n",
       "        vertical-align: middle;\n",
       "    }\n",
       "\n",
       "    .dataframe tbody tr th {\n",
       "        vertical-align: top;\n",
       "    }\n",
       "\n",
       "    .dataframe thead th {\n",
       "        text-align: right;\n",
       "    }\n",
       "</style>\n",
       "<table border=\"1\" class=\"dataframe\">\n",
       "  <thead>\n",
       "    <tr style=\"text-align: right;\">\n",
       "      <th></th>\n",
       "      <th>sentiment</th>\n",
       "      <th>sentence</th>\n",
       "    </tr>\n",
       "  </thead>\n",
       "  <tbody>\n",
       "    <tr>\n",
       "      <th>0</th>\n",
       "      <td>neutral</td>\n",
       "      <td>Trabajar en #Ryanair como #TMA: https://t.co/r...</td>\n",
       "    </tr>\n",
       "    <tr>\n",
       "      <th>1</th>\n",
       "      <td>neutral</td>\n",
       "      <td>@Iberia @FIONAFERRER Cuando gusten en Cancún s...</td>\n",
       "    </tr>\n",
       "  </tbody>\n",
       "</table>\n",
       "</div>"
      ],
      "text/plain": [
       "  sentiment                                           sentence\n",
       "0   neutral  Trabajar en #Ryanair como #TMA: https://t.co/r...\n",
       "1   neutral  @Iberia @FIONAFERRER Cuando gusten en Cancún s..."
      ]
     },
     "execution_count": 5,
     "metadata": {},
     "output_type": "execute_result"
    }
   ],
   "source": [
    "airlinesdata = airlinesdata[['airline_sentiment','text']]\n",
    "airlinesdata.rename(columns = {'airline_sentiment':'sentiment', 'text':'sentence'}, inplace = True)\n",
    "airlinesdata.head(2)"
   ]
  },
  {
   "cell_type": "code",
   "execution_count": 6,
   "id": "c7029ccf",
   "metadata": {},
   "outputs": [],
   "source": [
    "translateDict = {\n",
    "    'positive':'Positiva',\n",
    "    'neutral':'Neutra',\n",
    "    'negative':'Negativa'\n",
    "}"
   ]
  },
  {
   "cell_type": "code",
   "execution_count": 7,
   "id": "63ce9c27",
   "metadata": {},
   "outputs": [],
   "source": [
    "airlinesdata['sentiment'] = airlinesdata['sentiment'].map(translateDict)"
   ]
  },
  {
   "cell_type": "code",
   "execution_count": 8,
   "id": "d3aa7f8d",
   "metadata": {},
   "outputs": [
    {
     "data": {
      "text/html": [
       "<div>\n",
       "<style scoped>\n",
       "    .dataframe tbody tr th:only-of-type {\n",
       "        vertical-align: middle;\n",
       "    }\n",
       "\n",
       "    .dataframe tbody tr th {\n",
       "        vertical-align: top;\n",
       "    }\n",
       "\n",
       "    .dataframe thead th {\n",
       "        text-align: right;\n",
       "    }\n",
       "</style>\n",
       "<table border=\"1\" class=\"dataframe\">\n",
       "  <thead>\n",
       "    <tr style=\"text-align: right;\">\n",
       "      <th></th>\n",
       "      <th>sentence</th>\n",
       "      <th>sentiment</th>\n",
       "    </tr>\n",
       "  </thead>\n",
       "  <tbody>\n",
       "    <tr>\n",
       "      <th>0</th>\n",
       "      <td>NECESITAMOS #ACOGIDA RESPONSABLE PARA WOLF. PO...</td>\n",
       "      <td>Neutra</td>\n",
       "    </tr>\n",
       "    <tr>\n",
       "      <th>1</th>\n",
       "      <td>Internacional de Porto Alegre habría llegado a...</td>\n",
       "      <td>Neutra</td>\n",
       "    </tr>\n",
       "    <tr>\n",
       "      <th>2</th>\n",
       "      <td>Que alegre está!!💕💕😘😘🦋🦋\\n@dmtzdmr https://t.co...</td>\n",
       "      <td>Positiva</td>\n",
       "    </tr>\n",
       "    <tr>\n",
       "      <th>3</th>\n",
       "      <td>Estoy triste quiero tatuarme</td>\n",
       "      <td>Negativa</td>\n",
       "    </tr>\n",
       "    <tr>\n",
       "      <th>4</th>\n",
       "      <td>ㅤ\\n\\n             Soñé que al fin\\n       volv...</td>\n",
       "      <td>Negativa</td>\n",
       "    </tr>\n",
       "  </tbody>\n",
       "</table>\n",
       "</div>"
      ],
      "text/plain": [
       "                                            sentence sentiment\n",
       "0  NECESITAMOS #ACOGIDA RESPONSABLE PARA WOLF. PO...    Neutra\n",
       "1  Internacional de Porto Alegre habría llegado a...    Neutra\n",
       "2  Que alegre está!!💕💕😘😘🦋🦋\\n@dmtzdmr https://t.co...  Positiva\n",
       "3                       Estoy triste quiero tatuarme  Negativa\n",
       "4  ㅤ\\n\\n             Soñé que al fin\\n       volv...  Negativa"
      ]
     },
     "execution_count": 8,
     "metadata": {},
     "output_type": "execute_result"
    }
   ],
   "source": [
    "frames = [tgdata, airlinesdata]\n",
    "data = pd.concat(frames)\n",
    "data.reset_index(drop=True, inplace=True)\n",
    "data.head()"
   ]
  },
  {
   "cell_type": "code",
   "execution_count": 9,
   "id": "57209a17",
   "metadata": {},
   "outputs": [
    {
     "data": {
      "text/plain": [
       "<AxesSubplot:xlabel='sentiment', ylabel='sentence'>"
      ]
     },
     "execution_count": 9,
     "metadata": {},
     "output_type": "execute_result"
    },
    {
     "data": {
      "image/png": "[encoded data removed]",
      "text/plain": [
       "<Figure size 432x288 with 1 Axes>"
      ]
     },
     "metadata": {},
     "output_type": "display_data"
    }
   ],
   "source": [
    "aux = data.groupby('sentiment').count()\n",
    "sns.barplot(data = aux, x = aux.index, y = 'sentence')"
   ]
  },
  {
   "cell_type": "code",
   "execution_count": 10,
   "id": "05f7a4d8",
   "metadata": {},
   "outputs": [
    {
     "data": {
      "text/plain": [
       "Negativa    4575\n",
       "Neutra      3177\n",
       "Positiva    2180\n",
       "Name: sentiment, dtype: int64"
      ]
     },
     "execution_count": 10,
     "metadata": {},
     "output_type": "execute_result"
    }
   ],
   "source": [
    "data['sentiment'].value_counts()"
   ]
  },
  {
   "cell_type": "markdown",
   "id": "db4066af",
   "metadata": {},
   "source": [
    "# Preprocesar datos"
   ]
  },
  {
   "cell_type": "code",
   "execution_count": 11,
   "id": "6dcb6d20",
   "metadata": {},
   "outputs": [
    {
     "data": {
      "text/html": [
       "<div>\n",
       "<style scoped>\n",
       "    .dataframe tbody tr th:only-of-type {\n",
       "        vertical-align: middle;\n",
       "    }\n",
       "\n",
       "    .dataframe tbody tr th {\n",
       "        vertical-align: top;\n",
       "    }\n",
       "\n",
       "    .dataframe thead th {\n",
       "        text-align: right;\n",
       "    }\n",
       "</style>\n",
       "<table border=\"1\" class=\"dataframe\">\n",
       "  <thead>\n",
       "    <tr style=\"text-align: right;\">\n",
       "      <th></th>\n",
       "      <th>sentence</th>\n",
       "      <th>sentiment</th>\n",
       "      <th>tokens</th>\n",
       "    </tr>\n",
       "  </thead>\n",
       "  <tbody>\n",
       "    <tr>\n",
       "      <th>0</th>\n",
       "      <td>NECESITAMOS #ACOGIDA RESPONSABLE PARA WOLF. PO...</td>\n",
       "      <td>Neutra</td>\n",
       "      <td>necesitamos #acogida responsable para wolf. po...</td>\n",
       "    </tr>\n",
       "    <tr>\n",
       "      <th>1</th>\n",
       "      <td>Internacional de Porto Alegre habría llegado a...</td>\n",
       "      <td>Neutra</td>\n",
       "      <td>internacional de porto alegre habría llegado a...</td>\n",
       "    </tr>\n",
       "    <tr>\n",
       "      <th>2</th>\n",
       "      <td>Que alegre está!!💕💕😘😘🦋🦋\\n@dmtzdmr https://t.co...</td>\n",
       "      <td>Positiva</td>\n",
       "      <td>que alegre está!!💕💕😘😘🦋🦋\\n@dmtzdmr https://t.co...</td>\n",
       "    </tr>\n",
       "    <tr>\n",
       "      <th>3</th>\n",
       "      <td>Estoy triste quiero tatuarme</td>\n",
       "      <td>Negativa</td>\n",
       "      <td>estoy triste quiero tatuarme</td>\n",
       "    </tr>\n",
       "    <tr>\n",
       "      <th>4</th>\n",
       "      <td>ㅤ\\n\\n             Soñé que al fin\\n       volv...</td>\n",
       "      <td>Negativa</td>\n",
       "      <td>ㅤ\\n\\n             soñé que al fin\\n       volv...</td>\n",
       "    </tr>\n",
       "  </tbody>\n",
       "</table>\n",
       "</div>"
      ],
      "text/plain": [
       "                                            sentence sentiment  \\\n",
       "0  NECESITAMOS #ACOGIDA RESPONSABLE PARA WOLF. PO...    Neutra   \n",
       "1  Internacional de Porto Alegre habría llegado a...    Neutra   \n",
       "2  Que alegre está!!💕💕😘😘🦋🦋\\n@dmtzdmr https://t.co...  Positiva   \n",
       "3                       Estoy triste quiero tatuarme  Negativa   \n",
       "4  ㅤ\\n\\n             Soñé que al fin\\n       volv...  Negativa   \n",
       "\n",
       "                                              tokens  \n",
       "0  necesitamos #acogida responsable para wolf. po...  \n",
       "1  internacional de porto alegre habría llegado a...  \n",
       "2  que alegre está!!💕💕😘😘🦋🦋\\n@dmtzdmr https://t.co...  \n",
       "3                       estoy triste quiero tatuarme  \n",
       "4  ㅤ\\n\\n             soñé que al fin\\n       volv...  "
      ]
     },
     "execution_count": 11,
     "metadata": {},
     "output_type": "execute_result"
    }
   ],
   "source": [
    "data['tokens'] = data['sentence'].str.lower()\n",
    "data.head()"
   ]
  },
  {
   "cell_type": "code",
   "execution_count": 6,
   "id": "ad21098c",
   "metadata": {},
   "outputs": [],
   "source": [
    "def only_words(sentence):\n",
    "    url_reg = re.compile('http[s]?://(?:[a-zA-Z]|[0-9]|[$-_@.&+]|[!*\\(\\),]|(?:%[0-9a-fA-F][0-9a-fA-F]))+')\n",
    "    html_reg = re.compile('<.*?>|&([a-z0-9]+|#[0-9]{1,6}|#x[0-9a-f]{1,6});')\n",
    "    spaces_reg = re.compile('[ ]{2,}')\n",
    "    \n",
    "    result = url_reg.sub('', sentence)\n",
    "    result = html_reg.sub('', result)\n",
    "    result = spaces_reg.sub('', result)\n",
    "    result = re.findall('\\w+', result)\n",
    "    result = [''.join(x for x in i if x.isalpha()) for i in result]\n",
    "    result = ' '.join(result)\n",
    "    \n",
    "    return result"
   ]
  },
  {
   "cell_type": "code",
   "execution_count": 13,
   "id": "bf181ded",
   "metadata": {},
   "outputs": [
    {
     "data": {
      "text/html": [
       "<div>\n",
       "<style scoped>\n",
       "    .dataframe tbody tr th:only-of-type {\n",
       "        vertical-align: middle;\n",
       "    }\n",
       "\n",
       "    .dataframe tbody tr th {\n",
       "        vertical-align: top;\n",
       "    }\n",
       "\n",
       "    .dataframe thead th {\n",
       "        text-align: right;\n",
       "    }\n",
       "</style>\n",
       "<table border=\"1\" class=\"dataframe\">\n",
       "  <thead>\n",
       "    <tr style=\"text-align: right;\">\n",
       "      <th></th>\n",
       "      <th>sentence</th>\n",
       "      <th>sentiment</th>\n",
       "      <th>tokens</th>\n",
       "    </tr>\n",
       "  </thead>\n",
       "  <tbody>\n",
       "    <tr>\n",
       "      <th>0</th>\n",
       "      <td>NECESITAMOS #ACOGIDA RESPONSABLE PARA WOLF. PO...</td>\n",
       "      <td>Neutra</td>\n",
       "      <td>necesitamos acogida responsable para wolf por ...</td>\n",
       "    </tr>\n",
       "    <tr>\n",
       "      <th>1</th>\n",
       "      <td>Internacional de Porto Alegre habría llegado a...</td>\n",
       "      <td>Neutra</td>\n",
       "      <td>internacional de porto alegre habría llegado a...</td>\n",
       "    </tr>\n",
       "    <tr>\n",
       "      <th>2</th>\n",
       "      <td>Que alegre está!!💕💕😘😘🦋🦋\\n@dmtzdmr https://t.co...</td>\n",
       "      <td>Positiva</td>\n",
       "      <td>que alegre está dmtzdmr</td>\n",
       "    </tr>\n",
       "    <tr>\n",
       "      <th>3</th>\n",
       "      <td>Estoy triste quiero tatuarme</td>\n",
       "      <td>Negativa</td>\n",
       "      <td>estoy triste quiero tatuarme</td>\n",
       "    </tr>\n",
       "    <tr>\n",
       "      <th>4</th>\n",
       "      <td>ㅤ\\n\\n             Soñé que al fin\\n       volv...</td>\n",
       "      <td>Negativa</td>\n",
       "      <td>ㅤ soñé que al fin volvíamos a abrazarnos nunca...</td>\n",
       "    </tr>\n",
       "  </tbody>\n",
       "</table>\n",
       "</div>"
      ],
      "text/plain": [
       "                                            sentence sentiment  \\\n",
       "0  NECESITAMOS #ACOGIDA RESPONSABLE PARA WOLF. PO...    Neutra   \n",
       "1  Internacional de Porto Alegre habría llegado a...    Neutra   \n",
       "2  Que alegre está!!💕💕😘😘🦋🦋\\n@dmtzdmr https://t.co...  Positiva   \n",
       "3                       Estoy triste quiero tatuarme  Negativa   \n",
       "4  ㅤ\\n\\n             Soñé que al fin\\n       volv...  Negativa   \n",
       "\n",
       "                                              tokens  \n",
       "0  necesitamos acogida responsable para wolf por ...  \n",
       "1  internacional de porto alegre habría llegado a...  \n",
       "2                            que alegre está dmtzdmr  \n",
       "3                       estoy triste quiero tatuarme  \n",
       "4  ㅤ soñé que al fin volvíamos a abrazarnos nunca...  "
      ]
     },
     "execution_count": 13,
     "metadata": {},
     "output_type": "execute_result"
    }
   ],
   "source": [
    "data['tokens'] = data['tokens'].apply(only_words)\n",
    "data.head()"
   ]
  },
  {
   "cell_type": "code",
   "execution_count": 7,
   "id": "3ed5b244",
   "metadata": {},
   "outputs": [],
   "source": [
    "def remove_stop_words(sentence):\n",
    "    result = \"\"\n",
    "    if sentence != None:\n",
    "        sentence = sentence.split(\" \")\n",
    "        result = list(filter(lambda l: (l not in STOP_WORDS and len(l) > 2), sentence))\n",
    "        result = ' '.join(result)\n",
    "    return result"
   ]
  },
  {
   "cell_type": "code",
   "execution_count": 15,
   "id": "11d4e687",
   "metadata": {},
   "outputs": [
    {
     "data": {
      "text/html": [
       "<div>\n",
       "<style scoped>\n",
       "    .dataframe tbody tr th:only-of-type {\n",
       "        vertical-align: middle;\n",
       "    }\n",
       "\n",
       "    .dataframe tbody tr th {\n",
       "        vertical-align: top;\n",
       "    }\n",
       "\n",
       "    .dataframe thead th {\n",
       "        text-align: right;\n",
       "    }\n",
       "</style>\n",
       "<table border=\"1\" class=\"dataframe\">\n",
       "  <thead>\n",
       "    <tr style=\"text-align: right;\">\n",
       "      <th></th>\n",
       "      <th>sentence</th>\n",
       "      <th>sentiment</th>\n",
       "      <th>tokens</th>\n",
       "    </tr>\n",
       "  </thead>\n",
       "  <tbody>\n",
       "    <tr>\n",
       "      <th>0</th>\n",
       "      <td>NECESITAMOS #ACOGIDA RESPONSABLE PARA WOLF. PO...</td>\n",
       "      <td>Neutra</td>\n",
       "      <td>necesitamos acogida responsable wolf asuntos l...</td>\n",
       "    </tr>\n",
       "    <tr>\n",
       "      <th>1</th>\n",
       "      <td>Internacional de Porto Alegre habría llegado a...</td>\n",
       "      <td>Neutra</td>\n",
       "      <td>internacional porto alegre habría llegado fich...</td>\n",
       "    </tr>\n",
       "    <tr>\n",
       "      <th>2</th>\n",
       "      <td>Que alegre está!!💕💕😘😘🦋🦋\\n@dmtzdmr https://t.co...</td>\n",
       "      <td>Positiva</td>\n",
       "      <td>alegre dmtzdmr</td>\n",
       "    </tr>\n",
       "    <tr>\n",
       "      <th>3</th>\n",
       "      <td>Estoy triste quiero tatuarme</td>\n",
       "      <td>Negativa</td>\n",
       "      <td>triste quiero tatuarme</td>\n",
       "    </tr>\n",
       "    <tr>\n",
       "      <th>4</th>\n",
       "      <td>ㅤ\\n\\n             Soñé que al fin\\n       volv...</td>\n",
       "      <td>Negativa</td>\n",
       "      <td>soñé volvíamos abrazarnos despertar pareció tr...</td>\n",
       "    </tr>\n",
       "  </tbody>\n",
       "</table>\n",
       "</div>"
      ],
      "text/plain": [
       "                                            sentence sentiment  \\\n",
       "0  NECESITAMOS #ACOGIDA RESPONSABLE PARA WOLF. PO...    Neutra   \n",
       "1  Internacional de Porto Alegre habría llegado a...    Neutra   \n",
       "2  Que alegre está!!💕💕😘😘🦋🦋\\n@dmtzdmr https://t.co...  Positiva   \n",
       "3                       Estoy triste quiero tatuarme  Negativa   \n",
       "4  ㅤ\\n\\n             Soñé que al fin\\n       volv...  Negativa   \n",
       "\n",
       "                                              tokens  \n",
       "0  necesitamos acogida responsable wolf asuntos l...  \n",
       "1  internacional porto alegre habría llegado fich...  \n",
       "2                                     alegre dmtzdmr  \n",
       "3                             triste quiero tatuarme  \n",
       "4  soñé volvíamos abrazarnos despertar pareció tr...  "
      ]
     },
     "execution_count": 15,
     "metadata": {},
     "output_type": "execute_result"
    }
   ],
   "source": [
    "data['tokens'] = data['tokens'].apply(remove_stop_words)\n",
    "data.head()"
   ]
  },
  {
   "cell_type": "code",
   "execution_count": 8,
   "id": "c1205f0b",
   "metadata": {},
   "outputs": [],
   "source": [
    "def lematize(sentence):\n",
    "    doc = nlp(sentence)\n",
    "    result = \"\"\n",
    "    for token in doc:\n",
    "        result += token.lemma_ + \" \"\n",
    "    return result"
   ]
  },
  {
   "cell_type": "code",
   "execution_count": 17,
   "id": "dab4f9ca",
   "metadata": {},
   "outputs": [
    {
     "data": {
      "text/html": [
       "<div>\n",
       "<style scoped>\n",
       "    .dataframe tbody tr th:only-of-type {\n",
       "        vertical-align: middle;\n",
       "    }\n",
       "\n",
       "    .dataframe tbody tr th {\n",
       "        vertical-align: top;\n",
       "    }\n",
       "\n",
       "    .dataframe thead th {\n",
       "        text-align: right;\n",
       "    }\n",
       "</style>\n",
       "<table border=\"1\" class=\"dataframe\">\n",
       "  <thead>\n",
       "    <tr style=\"text-align: right;\">\n",
       "      <th></th>\n",
       "      <th>sentence</th>\n",
       "      <th>sentiment</th>\n",
       "      <th>tokens</th>\n",
       "    </tr>\n",
       "  </thead>\n",
       "  <tbody>\n",
       "    <tr>\n",
       "      <th>0</th>\n",
       "      <td>NECESITAMOS #ACOGIDA RESPONSABLE PARA WOLF. PO...</td>\n",
       "      <td>Neutra</td>\n",
       "      <td>necesitar acogido responsable wolf asunto lega...</td>\n",
       "    </tr>\n",
       "    <tr>\n",
       "      <th>1</th>\n",
       "      <td>Internacional de Porto Alegre habría llegado a...</td>\n",
       "      <td>Neutra</td>\n",
       "      <td>internacional porto alegre haber llegar fichar...</td>\n",
       "    </tr>\n",
       "    <tr>\n",
       "      <th>2</th>\n",
       "      <td>Que alegre está!!💕💕😘😘🦋🦋\\n@dmtzdmr https://t.co...</td>\n",
       "      <td>Positiva</td>\n",
       "      <td>alegre dmtzdmr</td>\n",
       "    </tr>\n",
       "    <tr>\n",
       "      <th>3</th>\n",
       "      <td>Estoy triste quiero tatuarme</td>\n",
       "      <td>Negativa</td>\n",
       "      <td>triste querer tatuar yo</td>\n",
       "    </tr>\n",
       "    <tr>\n",
       "      <th>4</th>\n",
       "      <td>ㅤ\\n\\n             Soñé que al fin\\n       volv...</td>\n",
       "      <td>Negativa</td>\n",
       "      <td>soñar volver abrazar yo despertar parecer triste</td>\n",
       "    </tr>\n",
       "  </tbody>\n",
       "</table>\n",
       "</div>"
      ],
      "text/plain": [
       "                                            sentence sentiment  \\\n",
       "0  NECESITAMOS #ACOGIDA RESPONSABLE PARA WOLF. PO...    Neutra   \n",
       "1  Internacional de Porto Alegre habría llegado a...    Neutra   \n",
       "2  Que alegre está!!💕💕😘😘🦋🦋\\n@dmtzdmr https://t.co...  Positiva   \n",
       "3                       Estoy triste quiero tatuarme  Negativa   \n",
       "4  ㅤ\\n\\n             Soñé que al fin\\n       volv...  Negativa   \n",
       "\n",
       "                                              tokens  \n",
       "0  necesitar acogido responsable wolf asunto lega...  \n",
       "1  internacional porto alegre haber llegar fichar...  \n",
       "2                                    alegre dmtzdmr   \n",
       "3                           triste querer tatuar yo   \n",
       "4  soñar volver abrazar yo despertar parecer triste   "
      ]
     },
     "execution_count": 17,
     "metadata": {},
     "output_type": "execute_result"
    }
   ],
   "source": [
    "data['tokens'] = data['tokens'].apply(lematize)\n",
    "data.head()"
   ]
  },
  {
   "cell_type": "code",
   "execution_count": 9,
   "id": "b9d6d0a8",
   "metadata": {},
   "outputs": [],
   "source": [
    "def remove_accents(sentence):\n",
    "    replacements = {\n",
    "        \"á\" : \"a\",\n",
    "        \"é\" : \"e\",\n",
    "        \"í\" : \"i\",\n",
    "        \"ó\" : \"o\",\n",
    "        \"ú\" : \"u\",\n",
    "    }\n",
    "    for i,j in replacements.items():\n",
    "        sentence = sentence.replace (i,j)\n",
    "    return sentence"
   ]
  },
  {
   "cell_type": "code",
   "execution_count": 19,
   "id": "18f4a972",
   "metadata": {},
   "outputs": [
    {
     "data": {
      "text/html": [
       "<div>\n",
       "<style scoped>\n",
       "    .dataframe tbody tr th:only-of-type {\n",
       "        vertical-align: middle;\n",
       "    }\n",
       "\n",
       "    .dataframe tbody tr th {\n",
       "        vertical-align: top;\n",
       "    }\n",
       "\n",
       "    .dataframe thead th {\n",
       "        text-align: right;\n",
       "    }\n",
       "</style>\n",
       "<table border=\"1\" class=\"dataframe\">\n",
       "  <thead>\n",
       "    <tr style=\"text-align: right;\">\n",
       "      <th></th>\n",
       "      <th>sentence</th>\n",
       "      <th>sentiment</th>\n",
       "      <th>tokens</th>\n",
       "    </tr>\n",
       "  </thead>\n",
       "  <tbody>\n",
       "    <tr>\n",
       "      <th>0</th>\n",
       "      <td>NECESITAMOS #ACOGIDA RESPONSABLE PARA WOLF. PO...</td>\n",
       "      <td>Neutra</td>\n",
       "      <td>necesitar acogido responsable wolf asunto lega...</td>\n",
       "    </tr>\n",
       "    <tr>\n",
       "      <th>1</th>\n",
       "      <td>Internacional de Porto Alegre habría llegado a...</td>\n",
       "      <td>Neutra</td>\n",
       "      <td>internacional porto alegre haber llegar fichar...</td>\n",
       "    </tr>\n",
       "    <tr>\n",
       "      <th>2</th>\n",
       "      <td>Que alegre está!!💕💕😘😘🦋🦋\\n@dmtzdmr https://t.co...</td>\n",
       "      <td>Positiva</td>\n",
       "      <td>alegre dmtzdmr</td>\n",
       "    </tr>\n",
       "    <tr>\n",
       "      <th>3</th>\n",
       "      <td>Estoy triste quiero tatuarme</td>\n",
       "      <td>Negativa</td>\n",
       "      <td>triste querer tatuar yo</td>\n",
       "    </tr>\n",
       "    <tr>\n",
       "      <th>4</th>\n",
       "      <td>ㅤ\\n\\n             Soñé que al fin\\n       volv...</td>\n",
       "      <td>Negativa</td>\n",
       "      <td>soñar volver abrazar yo despertar parecer triste</td>\n",
       "    </tr>\n",
       "  </tbody>\n",
       "</table>\n",
       "</div>"
      ],
      "text/plain": [
       "                                            sentence sentiment  \\\n",
       "0  NECESITAMOS #ACOGIDA RESPONSABLE PARA WOLF. PO...    Neutra   \n",
       "1  Internacional de Porto Alegre habría llegado a...    Neutra   \n",
       "2  Que alegre está!!💕💕😘😘🦋🦋\\n@dmtzdmr https://t.co...  Positiva   \n",
       "3                       Estoy triste quiero tatuarme  Negativa   \n",
       "4  ㅤ\\n\\n             Soñé que al fin\\n       volv...  Negativa   \n",
       "\n",
       "                                              tokens  \n",
       "0  necesitar acogido responsable wolf asunto lega...  \n",
       "1  internacional porto alegre haber llegar fichar...  \n",
       "2                                    alegre dmtzdmr   \n",
       "3                           triste querer tatuar yo   \n",
       "4  soñar volver abrazar yo despertar parecer triste   "
      ]
     },
     "execution_count": 19,
     "metadata": {},
     "output_type": "execute_result"
    }
   ],
   "source": [
    "data['tokens'] = data['tokens'].apply(remove_accents)\n",
    "data.head()"
   ]
  },
  {
   "cell_type": "code",
   "execution_count": 20,
   "id": "9582b091",
   "metadata": {},
   "outputs": [
    {
     "data": {
      "text/html": [
       "<div>\n",
       "<style scoped>\n",
       "    .dataframe tbody tr th:only-of-type {\n",
       "        vertical-align: middle;\n",
       "    }\n",
       "\n",
       "    .dataframe tbody tr th {\n",
       "        vertical-align: top;\n",
       "    }\n",
       "\n",
       "    .dataframe thead th {\n",
       "        text-align: right;\n",
       "    }\n",
       "</style>\n",
       "<table border=\"1\" class=\"dataframe\">\n",
       "  <thead>\n",
       "    <tr style=\"text-align: right;\">\n",
       "      <th></th>\n",
       "      <th>sentence</th>\n",
       "      <th>sentiment</th>\n",
       "      <th>tokens</th>\n",
       "    </tr>\n",
       "  </thead>\n",
       "  <tbody>\n",
       "    <tr>\n",
       "      <th>0</th>\n",
       "      <td>NECESITAMOS #ACOGIDA RESPONSABLE PARA WOLF. PO...</td>\n",
       "      <td>Neutra</td>\n",
       "      <td>necesitar acogido responsable wolf asunto lega...</td>\n",
       "    </tr>\n",
       "    <tr>\n",
       "      <th>1</th>\n",
       "      <td>Internacional de Porto Alegre habría llegado a...</td>\n",
       "      <td>Neutra</td>\n",
       "      <td>internacional porto alegre haber llegar fichar...</td>\n",
       "    </tr>\n",
       "    <tr>\n",
       "      <th>2</th>\n",
       "      <td>Que alegre está!!💕💕😘😘🦋🦋\\n@dmtzdmr https://t.co...</td>\n",
       "      <td>Positiva</td>\n",
       "      <td>alegre dmtzdmr</td>\n",
       "    </tr>\n",
       "    <tr>\n",
       "      <th>3</th>\n",
       "      <td>Estoy triste quiero tatuarme</td>\n",
       "      <td>Negativa</td>\n",
       "      <td>triste querer tatuar yo</td>\n",
       "    </tr>\n",
       "    <tr>\n",
       "      <th>4</th>\n",
       "      <td>ㅤ\\n\\n             Soñé que al fin\\n       volv...</td>\n",
       "      <td>Negativa</td>\n",
       "      <td>soñar volver abrazar yo despertar parecer triste</td>\n",
       "    </tr>\n",
       "  </tbody>\n",
       "</table>\n",
       "</div>"
      ],
      "text/plain": [
       "                                            sentence sentiment  \\\n",
       "0  NECESITAMOS #ACOGIDA RESPONSABLE PARA WOLF. PO...    Neutra   \n",
       "1  Internacional de Porto Alegre habría llegado a...    Neutra   \n",
       "2  Que alegre está!!💕💕😘😘🦋🦋\\n@dmtzdmr https://t.co...  Positiva   \n",
       "3                       Estoy triste quiero tatuarme  Negativa   \n",
       "4  ㅤ\\n\\n             Soñé que al fin\\n       volv...  Negativa   \n",
       "\n",
       "                                              tokens  \n",
       "0  necesitar acogido responsable wolf asunto lega...  \n",
       "1  internacional porto alegre haber llegar fichar...  \n",
       "2                                    alegre dmtzdmr   \n",
       "3                           triste querer tatuar yo   \n",
       "4  soñar volver abrazar yo despertar parecer triste   "
      ]
     },
     "execution_count": 20,
     "metadata": {},
     "output_type": "execute_result"
    }
   ],
   "source": [
    "data = data[data['tokens'].map(lambda d: d != \"\")]\n",
    "data = data.reset_index()\n",
    "data = data.drop(columns={'index'})\n",
    "data.head()"
   ]
  },
  {
   "cell_type": "code",
   "execution_count": 21,
   "id": "7353caeb",
   "metadata": {},
   "outputs": [
    {
     "data": {
      "text/plain": [
       "<AxesSubplot:xlabel='sentiment', ylabel='sentence'>"
      ]
     },
     "execution_count": 21,
     "metadata": {},
     "output_type": "execute_result"
    },
    {
     "data": {
      "image/png": "[encoded data removed]",
      "text/plain": [
       "<Figure size 432x288 with 1 Axes>"
      ]
     },
     "metadata": {},
     "output_type": "display_data"
    }
   ],
   "source": [
    "aux = data.groupby('sentiment').count()\n",
    "sns.barplot(data = aux, x = aux.index, y = 'sentence')"
   ]
  },
  {
   "cell_type": "code",
   "execution_count": 22,
   "id": "a86d7769",
   "metadata": {},
   "outputs": [
    {
     "data": {
      "text/plain": [
       "Negativa    4575\n",
       "Neutra      3174\n",
       "Positiva    2176\n",
       "Name: sentiment, dtype: int64"
      ]
     },
     "execution_count": 22,
     "metadata": {},
     "output_type": "execute_result"
    }
   ],
   "source": [
    "data['sentiment'].value_counts()"
   ]
  },
  {
   "cell_type": "code",
   "execution_count": 23,
   "id": "60c2d13e",
   "metadata": {},
   "outputs": [
    {
     "data": {
      "text/html": [
       "<div>\n",
       "<style scoped>\n",
       "    .dataframe tbody tr th:only-of-type {\n",
       "        vertical-align: middle;\n",
       "    }\n",
       "\n",
       "    .dataframe tbody tr th {\n",
       "        vertical-align: top;\n",
       "    }\n",
       "\n",
       "    .dataframe thead th {\n",
       "        text-align: right;\n",
       "    }\n",
       "</style>\n",
       "<table border=\"1\" class=\"dataframe\">\n",
       "  <thead>\n",
       "    <tr style=\"text-align: right;\">\n",
       "      <th></th>\n",
       "      <th>sentence</th>\n",
       "      <th>sentiment</th>\n",
       "      <th>tokens</th>\n",
       "      <th>sentiment_code</th>\n",
       "    </tr>\n",
       "  </thead>\n",
       "  <tbody>\n",
       "    <tr>\n",
       "      <th>0</th>\n",
       "      <td>NECESITAMOS #ACOGIDA RESPONSABLE PARA WOLF. PO...</td>\n",
       "      <td>Neutra</td>\n",
       "      <td>necesitar acogido responsable wolf asunto lega...</td>\n",
       "      <td>0</td>\n",
       "    </tr>\n",
       "    <tr>\n",
       "      <th>1</th>\n",
       "      <td>Internacional de Porto Alegre habría llegado a...</td>\n",
       "      <td>Neutra</td>\n",
       "      <td>internacional porto alegre haber llegar fichar...</td>\n",
       "      <td>0</td>\n",
       "    </tr>\n",
       "    <tr>\n",
       "      <th>2</th>\n",
       "      <td>Que alegre está!!💕💕😘😘🦋🦋\\n@dmtzdmr https://t.co...</td>\n",
       "      <td>Positiva</td>\n",
       "      <td>alegre dmtzdmr</td>\n",
       "      <td>1</td>\n",
       "    </tr>\n",
       "    <tr>\n",
       "      <th>3</th>\n",
       "      <td>Estoy triste quiero tatuarme</td>\n",
       "      <td>Negativa</td>\n",
       "      <td>triste querer tatuar yo</td>\n",
       "      <td>-1</td>\n",
       "    </tr>\n",
       "    <tr>\n",
       "      <th>4</th>\n",
       "      <td>ㅤ\\n\\n             Soñé que al fin\\n       volv...</td>\n",
       "      <td>Negativa</td>\n",
       "      <td>soñar volver abrazar yo despertar parecer triste</td>\n",
       "      <td>-1</td>\n",
       "    </tr>\n",
       "  </tbody>\n",
       "</table>\n",
       "</div>"
      ],
      "text/plain": [
       "                                            sentence sentiment  \\\n",
       "0  NECESITAMOS #ACOGIDA RESPONSABLE PARA WOLF. PO...    Neutra   \n",
       "1  Internacional de Porto Alegre habría llegado a...    Neutra   \n",
       "2  Que alegre está!!💕💕😘😘🦋🦋\\n@dmtzdmr https://t.co...  Positiva   \n",
       "3                       Estoy triste quiero tatuarme  Negativa   \n",
       "4  ㅤ\\n\\n             Soñé que al fin\\n       volv...  Negativa   \n",
       "\n",
       "                                              tokens  sentiment_code  \n",
       "0  necesitar acogido responsable wolf asunto lega...               0  \n",
       "1  internacional porto alegre haber llegar fichar...               0  \n",
       "2                                    alegre dmtzdmr                1  \n",
       "3                           triste querer tatuar yo               -1  \n",
       "4  soñar volver abrazar yo despertar parecer triste               -1  "
      ]
     },
     "execution_count": 23,
     "metadata": {},
     "output_type": "execute_result"
    }
   ],
   "source": [
    "codes = {\n",
    "    'Positiva': 1,\n",
    "    'Neutra': 0,\n",
    "    'Negativa' : -1\n",
    "}\n",
    "data['sentiment_code'] = data['sentiment']\n",
    "data = data.replace({'sentiment_code' : codes})\n",
    "data.head()"
   ]
  },
  {
   "cell_type": "code",
   "execution_count": 24,
   "id": "2175b2f8",
   "metadata": {},
   "outputs": [],
   "source": [
    "data.to_pickle(\"sentiment_data.pickle\")"
   ]
  },
  {
   "cell_type": "code",
   "execution_count": 65,
   "id": "d6c4e9ed",
   "metadata": {},
   "outputs": [],
   "source": [
    "def tokenize(dataframe):\n",
    "    \"\"\"\n",
    "    La función tendrá como entrada un dataframe con una columna \"text\" que contendrá el texto crudo inicial.\n",
    "    Devolverá un dataframe similar pero con la columna \"tokens\" añadida.\n",
    "    \"\"\"\n",
    "    data = dataframe.copy()\n",
    "    \n",
    "    data['tokens'] = data['sentence'].str.lower()\n",
    "    data['tokens'] = data['tokens'].apply(only_words)\n",
    "    data['tokens'] = data['tokens'].apply(remove_stop_words)\n",
    "    data['tokens'] = data['tokens'].apply(lematize)\n",
    "    data['tokens'] = data['tokens'].apply(remove_accents)\n",
    "    \n",
    "    return data"
   ]
  },
  {
   "cell_type": "markdown",
   "id": "dda553fe",
   "metadata": {},
   "source": [
    "# Creación y entrenamiento del modelo"
   ]
  },
  {
   "cell_type": "code",
   "execution_count": 26,
   "id": "d4518dc7",
   "metadata": {},
   "outputs": [],
   "source": [
    "X_train, X_test, y_train, y_test = train_test_split(data['tokens'],\n",
    "                                                    data['sentiment_code'],\n",
    "                                                    test_size=0.10)"
   ]
  },
  {
   "cell_type": "code",
   "execution_count": 27,
   "id": "f56adc0e",
   "metadata": {},
   "outputs": [],
   "source": [
    "tfidf = TfidfVectorizer(encoding='utf-8',\n",
    "                        max_features=10000,\n",
    "                        norm='l2',\n",
    "                        sublinear_tf=True)"
   ]
  },
  {
   "cell_type": "code",
   "execution_count": 28,
   "id": "0829aba2",
   "metadata": {},
   "outputs": [],
   "source": [
    "features_train = tfidf.fit_transform(X_train).toarray()\n",
    "labels_train = y_train\n",
    "features_test = tfidf.transform(X_test).toarray()\n",
    "labels_test = y_test"
   ]
  },
  {
   "cell_type": "code",
   "execution_count": 29,
   "id": "3f530e9b",
   "metadata": {},
   "outputs": [],
   "source": [
    "with open('tfidf.pickle', 'wb') as file_tfidf:\n",
    "    pickle.dump(tfidf, file_tfidf)"
   ]
  },
  {
   "cell_type": "code",
   "execution_count": 30,
   "id": "59545d20",
   "metadata": {},
   "outputs": [
    {
     "data": {
      "text/plain": [
       "{'bootstrap': True,\n",
       " 'ccp_alpha': 0.0,\n",
       " 'class_weight': None,\n",
       " 'criterion': 'gini',\n",
       " 'max_depth': None,\n",
       " 'max_features': 'auto',\n",
       " 'max_leaf_nodes': None,\n",
       " 'max_samples': None,\n",
       " 'min_impurity_decrease': 0.0,\n",
       " 'min_impurity_split': None,\n",
       " 'min_samples_leaf': 1,\n",
       " 'min_samples_split': 2,\n",
       " 'min_weight_fraction_leaf': 0.0,\n",
       " 'n_estimators': 100,\n",
       " 'n_jobs': None,\n",
       " 'oob_score': False,\n",
       " 'random_state': None,\n",
       " 'verbose': 0,\n",
       " 'warm_start': False}"
      ]
     },
     "execution_count": 30,
     "metadata": {},
     "output_type": "execute_result"
    }
   ],
   "source": [
    "rfc = RandomForestClassifier()\n",
    "rfc.get_params()"
   ]
  },
  {
   "cell_type": "code",
   "execution_count": 31,
   "id": "bbde3100",
   "metadata": {},
   "outputs": [],
   "source": [
    "params = {\n",
    "    'bootstrap': [True],\n",
    "    'criterion': ['gini', 'entropy'],\n",
    "    'max_features': ['auto', 'sqrt', 'log2'],\n",
    "    'n_estimators': [100],\n",
    "}"
   ]
  },
  {
   "cell_type": "code",
   "execution_count": 32,
   "id": "a465055b",
   "metadata": {},
   "outputs": [
    {
     "name": "stdout",
     "output_type": "stream",
     "text": [
      "{'bootstrap': True, 'criterion': 'gini', 'max_features': 'log2', 'n_estimators': 100}\n",
      "[0.55138827 0.55273175 0.55541872 0.55060457 0.55329154 0.55407524]\n"
     ]
    }
   ],
   "source": [
    "gridsearch = GridSearchCV(estimator = rfc,\n",
    "                          param_grid = params,\n",
    "                          cv = 2,\n",
    "                          n_jobs = 1)\n",
    "\n",
    "gridsearch.fit(features_train, labels_train)\n",
    "print(gridsearch.best_params_)\n",
    "print(gridsearch.cv_results_['mean_test_score'])"
   ]
  },
  {
   "cell_type": "code",
   "execution_count": 33,
   "id": "dea58bc0",
   "metadata": {},
   "outputs": [
    {
     "data": {
      "text/plain": [
       "RandomForestClassifier(max_features='log2')"
      ]
     },
     "execution_count": 33,
     "metadata": {},
     "output_type": "execute_result"
    }
   ],
   "source": [
    "rfc = RandomForestClassifier(bootstrap = True, criterion = 'gini', max_features = 'log2', n_estimators = 100)\n",
    "rfc.fit(features_train, labels_train)"
   ]
  },
  {
   "cell_type": "code",
   "execution_count": 34,
   "id": "2d9c3a4d",
   "metadata": {},
   "outputs": [],
   "source": [
    "with open('rfc.pickle', 'wb') as file_rfc:\n",
    "    pickle.dump(rfc, file_rfc)"
   ]
  }
 ],
 "metadata": {
  "kernelspec": {
   "display_name": "Python 3",
   "language": "python",
   "name": "python3"
  },
  "language_info": {
   "codemirror_mode": {
    "name": "ipython",
    "version": 3
   },
   "file_extension": ".py",
   "mimetype": "text/x-python",
   "name": "python",
   "nbconvert_exporter": "python",
   "pygments_lexer": "ipython3",
   "version": "3.9.5"
  }
 },
 "nbformat": 4,
 "nbformat_minor": 5
}
