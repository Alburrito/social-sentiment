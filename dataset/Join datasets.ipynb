{
 "cells": [
  {
   "cell_type": "markdown",
   "id": "f74e231e",
   "metadata": {},
   "source": [
    "# Juntar datos"
   ]
  },
  {
   "cell_type": "code",
   "execution_count": 1,
   "id": "b3ecd38a",
   "metadata": {},
   "outputs": [],
   "source": [
    "import pandas as pd\n",
    "import matplotlib.pyplot as plt\n",
    "import seaborn as sns\n",
    "import re\n",
    "import spacy\n",
    "from spacy.lang.es.stop_words import STOP_WORDS\n",
    "from sklearn.model_selection import train_test_split\n",
    "from sklearn.feature_extraction.text import TfidfVectorizer\n",
    "import pickle\n",
    "from sklearn.ensemble import RandomForestClassifier\n",
    "from sklearn.model_selection import GridSearchCV\n",
    "\n",
    "nlp = spacy.load('es_core_news_md')\n",
    "sns.set(style='whitegrid')"
   ]
  },
  {
   "cell_type": "markdown",
   "id": "29f63e12",
   "metadata": {},
   "source": [
    "### Dataset del bot de Telegram"
   ]
  },
  {
   "cell_type": "code",
   "execution_count": 2,
   "id": "e8fedaf9",
   "metadata": {},
   "outputs": [
    {
     "data": {
      "text/html": [
       "<div>\n",
       "<style scoped>\n",
       "    .dataframe tbody tr th:only-of-type {\n",
       "        vertical-align: middle;\n",
       "    }\n",
       "\n",
       "    .dataframe tbody tr th {\n",
       "        vertical-align: top;\n",
       "    }\n",
       "\n",
       "    .dataframe thead th {\n",
       "        text-align: right;\n",
       "    }\n",
       "</style>\n",
       "<table border=\"1\" class=\"dataframe\">\n",
       "  <thead>\n",
       "    <tr style=\"text-align: right;\">\n",
       "      <th></th>\n",
       "      <th>sentence</th>\n",
       "      <th>sentiment</th>\n",
       "    </tr>\n",
       "  </thead>\n",
       "  <tbody>\n",
       "    <tr>\n",
       "      <th>0</th>\n",
       "      <td>NECESITAMOS #ACOGIDA RESPONSABLE PARA WOLF. PO...</td>\n",
       "      <td>Neutra</td>\n",
       "    </tr>\n",
       "    <tr>\n",
       "      <th>1</th>\n",
       "      <td>Internacional de Porto Alegre habría llegado a...</td>\n",
       "      <td>Neutra</td>\n",
       "    </tr>\n",
       "  </tbody>\n",
       "</table>\n",
       "</div>"
      ],
      "text/plain": [
       "                                            sentence sentiment\n",
       "0  NECESITAMOS #ACOGIDA RESPONSABLE PARA WOLF. PO...    Neutra\n",
       "1  Internacional de Porto Alegre habría llegado a...    Neutra"
      ]
     },
     "execution_count": 2,
     "metadata": {},
     "output_type": "execute_result"
    }
   ],
   "source": [
    "tgdata = pd.read_csv('tg_bot.csv')\n",
    "tgdata.rename(columns = {'vote':'sentiment'}, inplace = True)\n",
    "tgdata.columns\n",
    "tgdata.head(2)"
   ]
  },
  {
   "cell_type": "markdown",
   "id": "3004d408",
   "metadata": {},
   "source": [
    "### Dataset aerolineas"
   ]
  },
  {
   "cell_type": "code",
   "execution_count": 3,
   "id": "36b5b7ee",
   "metadata": {},
   "outputs": [
    {
     "data": {
      "text/html": [
       "<div>\n",
       "<style scoped>\n",
       "    .dataframe tbody tr th:only-of-type {\n",
       "        vertical-align: middle;\n",
       "    }\n",
       "\n",
       "    .dataframe tbody tr th {\n",
       "        vertical-align: top;\n",
       "    }\n",
       "\n",
       "    .dataframe thead th {\n",
       "        text-align: right;\n",
       "    }\n",
       "</style>\n",
       "<table border=\"1\" class=\"dataframe\">\n",
       "  <thead>\n",
       "    <tr style=\"text-align: right;\">\n",
       "      <th></th>\n",
       "      <th>sentiment</th>\n",
       "      <th>sentence</th>\n",
       "    </tr>\n",
       "  </thead>\n",
       "  <tbody>\n",
       "    <tr>\n",
       "      <th>0</th>\n",
       "      <td>neutral</td>\n",
       "      <td>Trabajar en #Ryanair como #TMA: https://t.co/r...</td>\n",
       "    </tr>\n",
       "    <tr>\n",
       "      <th>1</th>\n",
       "      <td>neutral</td>\n",
       "      <td>@Iberia @FIONAFERRER Cuando gusten en Cancún s...</td>\n",
       "    </tr>\n",
       "  </tbody>\n",
       "</table>\n",
       "</div>"
      ],
      "text/plain": [
       "  sentiment                                           sentence\n",
       "0   neutral  Trabajar en #Ryanair como #TMA: https://t.co/r...\n",
       "1   neutral  @Iberia @FIONAFERRER Cuando gusten en Cancún s..."
      ]
     },
     "execution_count": 3,
     "metadata": {},
     "output_type": "execute_result"
    }
   ],
   "source": [
    "airlinesdata = pd.read_csv('tweets_public.csv')\n",
    "airlinesdata = airlinesdata[['airline_sentiment','text']]\n",
    "airlinesdata.rename(columns = {'airline_sentiment':'sentiment', 'text':'sentence'}, inplace = True)\n",
    "airlinesdata.head(2)"
   ]
  },
  {
   "cell_type": "code",
   "execution_count": 4,
   "id": "a0e0b47b",
   "metadata": {},
   "outputs": [],
   "source": [
    "translateDict = {\n",
    "    'positive':'Positiva',\n",
    "    'neutral':'Neutra',\n",
    "    'negative':'Negativa'\n",
    "}"
   ]
  },
  {
   "cell_type": "code",
   "execution_count": 5,
   "id": "43d75071",
   "metadata": {},
   "outputs": [],
   "source": [
    "airlinesdata['sentiment'] = airlinesdata['sentiment'].map(translateDict)"
   ]
  },
  {
   "cell_type": "markdown",
   "id": "c121f8a0",
   "metadata": {},
   "source": [
    "### Dataset excel"
   ]
  },
  {
   "cell_type": "code",
   "execution_count": 6,
   "id": "b6797d76",
   "metadata": {},
   "outputs": [
    {
     "data": {
      "text/html": [
       "<div>\n",
       "<style scoped>\n",
       "    .dataframe tbody tr th:only-of-type {\n",
       "        vertical-align: middle;\n",
       "    }\n",
       "\n",
       "    .dataframe tbody tr th {\n",
       "        vertical-align: top;\n",
       "    }\n",
       "\n",
       "    .dataframe thead th {\n",
       "        text-align: right;\n",
       "    }\n",
       "</style>\n",
       "<table border=\"1\" class=\"dataframe\">\n",
       "  <thead>\n",
       "    <tr style=\"text-align: right;\">\n",
       "      <th></th>\n",
       "      <th>sentence</th>\n",
       "      <th>sentiment</th>\n",
       "    </tr>\n",
       "  </thead>\n",
       "  <tbody>\n",
       "    <tr>\n",
       "      <th>0</th>\n",
       "      <td>abcdesevilla.es: Recio no tiene «indicios pote...</td>\n",
       "      <td>Negativa</td>\n",
       "    </tr>\n",
       "    <tr>\n",
       "      <th>1</th>\n",
       "      <td>abcdesevilla.es: Cuatro altos cargos de Empleo...</td>\n",
       "      <td>Negativa</td>\n",
       "    </tr>\n",
       "    <tr>\n",
       "      <th>2</th>\n",
       "      <td>La marcha atrás del PP en posponer devolución ...</td>\n",
       "      <td>Negativa</td>\n",
       "    </tr>\n",
       "    <tr>\n",
       "      <th>3</th>\n",
       "      <td>Accidente en BUS-VAO A-6 km. 12. Motorista de ...</td>\n",
       "      <td>Negativa</td>\n",
       "    </tr>\n",
       "    <tr>\n",
       "      <th>4</th>\n",
       "      <td>#FF a ti, que deseas desesperadamente hacerme ...</td>\n",
       "      <td>Negativa</td>\n",
       "    </tr>\n",
       "    <tr>\n",
       "      <th>...</th>\n",
       "      <td>...</td>\n",
       "      <td>...</td>\n",
       "    </tr>\n",
       "    <tr>\n",
       "      <th>13196</th>\n",
       "      <td>vivificantes</td>\n",
       "      <td>Positiva</td>\n",
       "    </tr>\n",
       "    <tr>\n",
       "      <th>13197</th>\n",
       "      <td>voluntariosa</td>\n",
       "      <td>Positiva</td>\n",
       "    </tr>\n",
       "    <tr>\n",
       "      <th>13198</th>\n",
       "      <td>voluntariosas</td>\n",
       "      <td>Positiva</td>\n",
       "    </tr>\n",
       "    <tr>\n",
       "      <th>13199</th>\n",
       "      <td>voluntarioso</td>\n",
       "      <td>Positiva</td>\n",
       "    </tr>\n",
       "    <tr>\n",
       "      <th>13200</th>\n",
       "      <td>voluntariosos</td>\n",
       "      <td>Positiva</td>\n",
       "    </tr>\n",
       "  </tbody>\n",
       "</table>\n",
       "<p>13201 rows × 2 columns</p>\n",
       "</div>"
      ],
      "text/plain": [
       "                                                sentence sentiment\n",
       "0      abcdesevilla.es: Recio no tiene «indicios pote...  Negativa\n",
       "1      abcdesevilla.es: Cuatro altos cargos de Empleo...  Negativa\n",
       "2      La marcha atrás del PP en posponer devolución ...  Negativa\n",
       "3      Accidente en BUS-VAO A-6 km. 12. Motorista de ...  Negativa\n",
       "4      #FF a ti, que deseas desesperadamente hacerme ...  Negativa\n",
       "...                                                  ...       ...\n",
       "13196                                       vivificantes  Positiva\n",
       "13197                                       voluntariosa  Positiva\n",
       "13198                                      voluntariosas  Positiva\n",
       "13199                                       voluntarioso  Positiva\n",
       "13200                                      voluntariosos  Positiva\n",
       "\n",
       "[13201 rows x 2 columns]"
      ]
     },
     "execution_count": 6,
     "metadata": {},
     "output_type": "execute_result"
    }
   ],
   "source": [
    "datasetExcel = pd.read_pickle('datasetExcel.pickle')\n",
    "datasetExcel"
   ]
  },
  {
   "cell_type": "markdown",
   "id": "f3b05e8e",
   "metadata": {},
   "source": [
    "### Juntar"
   ]
  },
  {
   "cell_type": "code",
   "execution_count": 7,
   "id": "1960ecf9",
   "metadata": {},
   "outputs": [
    {
     "data": {
      "text/html": [
       "<div>\n",
       "<style scoped>\n",
       "    .dataframe tbody tr th:only-of-type {\n",
       "        vertical-align: middle;\n",
       "    }\n",
       "\n",
       "    .dataframe tbody tr th {\n",
       "        vertical-align: top;\n",
       "    }\n",
       "\n",
       "    .dataframe thead th {\n",
       "        text-align: right;\n",
       "    }\n",
       "</style>\n",
       "<table border=\"1\" class=\"dataframe\">\n",
       "  <thead>\n",
       "    <tr style=\"text-align: right;\">\n",
       "      <th></th>\n",
       "      <th>sentence</th>\n",
       "      <th>sentiment</th>\n",
       "    </tr>\n",
       "  </thead>\n",
       "  <tbody>\n",
       "    <tr>\n",
       "      <th>0</th>\n",
       "      <td>NECESITAMOS #ACOGIDA RESPONSABLE PARA WOLF. PO...</td>\n",
       "      <td>Neutra</td>\n",
       "    </tr>\n",
       "    <tr>\n",
       "      <th>1</th>\n",
       "      <td>Internacional de Porto Alegre habría llegado a...</td>\n",
       "      <td>Neutra</td>\n",
       "    </tr>\n",
       "    <tr>\n",
       "      <th>2</th>\n",
       "      <td>Que alegre está!!💕💕😘😘🦋🦋\\n@dmtzdmr https://t.co...</td>\n",
       "      <td>Positiva</td>\n",
       "    </tr>\n",
       "    <tr>\n",
       "      <th>3</th>\n",
       "      <td>Estoy triste quiero tatuarme</td>\n",
       "      <td>Negativa</td>\n",
       "    </tr>\n",
       "    <tr>\n",
       "      <th>4</th>\n",
       "      <td>ㅤ\\n\\n             Soñé que al fin\\n       volv...</td>\n",
       "      <td>Negativa</td>\n",
       "    </tr>\n",
       "  </tbody>\n",
       "</table>\n",
       "</div>"
      ],
      "text/plain": [
       "                                            sentence sentiment\n",
       "0  NECESITAMOS #ACOGIDA RESPONSABLE PARA WOLF. PO...    Neutra\n",
       "1  Internacional de Porto Alegre habría llegado a...    Neutra\n",
       "2  Que alegre está!!💕💕😘😘🦋🦋\\n@dmtzdmr https://t.co...  Positiva\n",
       "3                       Estoy triste quiero tatuarme  Negativa\n",
       "4  ㅤ\\n\\n             Soñé que al fin\\n       volv...  Negativa"
      ]
     },
     "execution_count": 7,
     "metadata": {},
     "output_type": "execute_result"
    }
   ],
   "source": [
    "frames = [tgdata, airlinesdata, datasetExcel]\n",
    "data = pd.concat(frames)\n",
    "data.reset_index(drop=True, inplace=True)\n",
    "data.head()"
   ]
  },
  {
   "cell_type": "code",
   "execution_count": 8,
   "id": "054da9d0",
   "metadata": {},
   "outputs": [
    {
     "data": {
      "text/plain": [
       "<AxesSubplot:xlabel='sentiment', ylabel='sentence'>"
      ]
     },
     "execution_count": 8,
     "metadata": {},
     "output_type": "execute_result"
    },
    {
     "data": {
      "image/png": "[encoded data removed]",
      "text/plain": [
       "<Figure size 432x288 with 1 Axes>"
      ]
     },
     "metadata": {},
     "output_type": "display_data"
    }
   ],
   "source": [
    "aux = data.groupby('sentiment').count()\n",
    "sns.barplot(data = aux, x = aux.index, y = 'sentence')"
   ]
  },
  {
   "cell_type": "code",
   "execution_count": 9,
   "id": "6070adc6",
   "metadata": {},
   "outputs": [
    {
     "data": {
      "text/plain": [
       "Negativa    12383\n",
       "Positiva     7573\n",
       "Neutra       3177\n",
       "Name: sentiment, dtype: int64"
      ]
     },
     "execution_count": 9,
     "metadata": {},
     "output_type": "execute_result"
    }
   ],
   "source": [
    "data['sentiment'].value_counts()"
   ]
  },
  {
   "cell_type": "code",
   "execution_count": 10,
   "id": "271a82c2",
   "metadata": {},
   "outputs": [],
   "source": [
    "data.to_pickle('sentiment_dataset.pkl')"
   ]
  },
  {
   "cell_type": "code",
   "execution_count": 11,
   "id": "e85ddecf",
   "metadata": {},
   "outputs": [
    {
     "name": "stdout",
     "output_type": "stream",
     "text": [
      "<class 'pandas.core.frame.DataFrame'>\n",
      "RangeIndex: 23133 entries, 0 to 23132\n",
      "Data columns (total 2 columns):\n",
      " #   Column     Non-Null Count  Dtype \n",
      "---  ------     --------------  ----- \n",
      " 0   sentence   23133 non-null  object\n",
      " 1   sentiment  23133 non-null  object\n",
      "dtypes: object(2)\n",
      "memory usage: 361.6+ KB\n",
      "None\n",
      "\n",
      "(23133, 2)\n"
     ]
    },
    {
     "data": {
      "image/png": "[encoded data removed]",
      "text/plain": [
       "<Figure size 432x432 with 1 Axes>"
      ]
     },
     "metadata": {},
     "output_type": "display_data"
    }
   ],
   "source": [
    "print(data.info())\n",
    "print(\"\")\n",
    "print(data.shape)\n",
    "data['sentiment'].value_counts().plot.pie(figsize=(6,6),title=\"Distribution of reviews per sentiment\",labels=['','',''],autopct='%1.1f%%')\n",
    "labels=[\"Positiva\",\"Negativa\",\"Neutra\"]\n",
    "plt.legend(labels,loc=3)\n",
    "plt.gca().set_aspect('equal')"
   ]
  },
  {
   "cell_type": "code",
   "execution_count": null,
   "id": "da1bc953",
   "metadata": {},
   "outputs": [],
   "source": []
  }
 ],
 "metadata": {
  "kernelspec": {
   "display_name": "Python 3",
   "language": "python",
   "name": "python3"
  },
  "language_info": {
   "codemirror_mode": {
    "name": "ipython",
    "version": 3
   },
   "file_extension": ".py",
   "mimetype": "text/x-python",
   "name": "python",
   "nbconvert_exporter": "python",
   "pygments_lexer": "ipython3",
   "version": "3.9.5"
  }
 },
 "nbformat": 4,
 "nbformat_minor": 5
}
