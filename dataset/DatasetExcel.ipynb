{
 "cells": [
  {
   "cell_type": "code",
   "execution_count": 1,
   "id": "b7154c21",
   "metadata": {},
   "outputs": [],
   "source": [
    "import pandas as pd"
   ]
  },
  {
   "cell_type": "code",
   "execution_count": 3,
   "id": "1a2aaa20",
   "metadata": {},
   "outputs": [],
   "source": [
    "data = pd.read_excel('2clases_es_generaltassisol_pub.xls')"
   ]
  },
  {
   "cell_type": "code",
   "execution_count": 13,
   "id": "28f64f88",
   "metadata": {},
   "outputs": [
    {
     "data": {
      "text/plain": [
       "array(['neg', 'pos'], dtype=object)"
      ]
     },
     "execution_count": 13,
     "metadata": {},
     "output_type": "execute_result"
    }
   ],
   "source": [
    "data['class'].unique()"
   ]
  },
  {
   "cell_type": "code",
   "execution_count": 5,
   "id": "9a747920",
   "metadata": {},
   "outputs": [
    {
     "data": {
      "text/html": [
       "<div>\n",
       "<style scoped>\n",
       "    .dataframe tbody tr th:only-of-type {\n",
       "        vertical-align: middle;\n",
       "    }\n",
       "\n",
       "    .dataframe tbody tr th {\n",
       "        vertical-align: top;\n",
       "    }\n",
       "\n",
       "    .dataframe thead th {\n",
       "        text-align: right;\n",
       "    }\n",
       "</style>\n",
       "<table border=\"1\" class=\"dataframe\">\n",
       "  <thead>\n",
       "    <tr style=\"text-align: right;\">\n",
       "      <th></th>\n",
       "      <th>tweet</th>\n",
       "      <th>class</th>\n",
       "    </tr>\n",
       "  </thead>\n",
       "  <tbody>\n",
       "    <tr>\n",
       "      <th>0</th>\n",
       "      <td>abcdesevilla.es: Recio no tiene «indicios pote...</td>\n",
       "      <td>neg</td>\n",
       "    </tr>\n",
       "    <tr>\n",
       "      <th>1</th>\n",
       "      <td>abcdesevilla.es: Cuatro altos cargos de Empleo...</td>\n",
       "      <td>neg</td>\n",
       "    </tr>\n",
       "    <tr>\n",
       "      <th>2</th>\n",
       "      <td>La marcha atrás del PP en posponer devolución ...</td>\n",
       "      <td>neg</td>\n",
       "    </tr>\n",
       "    <tr>\n",
       "      <th>3</th>\n",
       "      <td>Accidente en BUS-VAO A-6 km. 12. Motorista de ...</td>\n",
       "      <td>neg</td>\n",
       "    </tr>\n",
       "    <tr>\n",
       "      <th>4</th>\n",
       "      <td>#FF a ti, que deseas desesperadamente hacerme ...</td>\n",
       "      <td>neg</td>\n",
       "    </tr>\n",
       "    <tr>\n",
       "      <th>...</th>\n",
       "      <td>...</td>\n",
       "      <td>...</td>\n",
       "    </tr>\n",
       "    <tr>\n",
       "      <th>13196</th>\n",
       "      <td>vivificantes</td>\n",
       "      <td>pos</td>\n",
       "    </tr>\n",
       "    <tr>\n",
       "      <th>13197</th>\n",
       "      <td>voluntariosa</td>\n",
       "      <td>pos</td>\n",
       "    </tr>\n",
       "    <tr>\n",
       "      <th>13198</th>\n",
       "      <td>voluntariosas</td>\n",
       "      <td>pos</td>\n",
       "    </tr>\n",
       "    <tr>\n",
       "      <th>13199</th>\n",
       "      <td>voluntarioso</td>\n",
       "      <td>pos</td>\n",
       "    </tr>\n",
       "    <tr>\n",
       "      <th>13200</th>\n",
       "      <td>voluntariosos</td>\n",
       "      <td>pos</td>\n",
       "    </tr>\n",
       "  </tbody>\n",
       "</table>\n",
       "<p>13201 rows × 2 columns</p>\n",
       "</div>"
      ],
      "text/plain": [
       "                                                   tweet class\n",
       "0      abcdesevilla.es: Recio no tiene «indicios pote...   neg\n",
       "1      abcdesevilla.es: Cuatro altos cargos de Empleo...   neg\n",
       "2      La marcha atrás del PP en posponer devolución ...   neg\n",
       "3      Accidente en BUS-VAO A-6 km. 12. Motorista de ...   neg\n",
       "4      #FF a ti, que deseas desesperadamente hacerme ...   neg\n",
       "...                                                  ...   ...\n",
       "13196                                       vivificantes   pos\n",
       "13197                                       voluntariosa   pos\n",
       "13198                                      voluntariosas   pos\n",
       "13199                                       voluntarioso   pos\n",
       "13200                                      voluntariosos   pos\n",
       "\n",
       "[13201 rows x 2 columns]"
      ]
     },
     "execution_count": 5,
     "metadata": {},
     "output_type": "execute_result"
    }
   ],
   "source": [
    "data"
   ]
  },
  {
   "cell_type": "code",
   "execution_count": 14,
   "id": "bad25018",
   "metadata": {},
   "outputs": [],
   "source": [
    "d1 = {\n",
    "    'neg': 'Negativa',\n",
    "    'pos': 'Positiva'\n",
    "}\n",
    "d2 = {\n",
    "    'tweet':'sentence',\n",
    "    'class':'sentiment'\n",
    "}"
   ]
  },
  {
   "cell_type": "code",
   "execution_count": 15,
   "id": "5be61be4",
   "metadata": {},
   "outputs": [],
   "source": [
    "data = data.rename(columns=d2)"
   ]
  },
  {
   "cell_type": "code",
   "execution_count": 20,
   "id": "84ceb77c",
   "metadata": {},
   "outputs": [
    {
     "data": {
      "text/html": [
       "<div>\n",
       "<style scoped>\n",
       "    .dataframe tbody tr th:only-of-type {\n",
       "        vertical-align: middle;\n",
       "    }\n",
       "\n",
       "    .dataframe tbody tr th {\n",
       "        vertical-align: top;\n",
       "    }\n",
       "\n",
       "    .dataframe thead th {\n",
       "        text-align: right;\n",
       "    }\n",
       "</style>\n",
       "<table border=\"1\" class=\"dataframe\">\n",
       "  <thead>\n",
       "    <tr style=\"text-align: right;\">\n",
       "      <th></th>\n",
       "      <th>sentence</th>\n",
       "      <th>sentiment</th>\n",
       "    </tr>\n",
       "  </thead>\n",
       "  <tbody>\n",
       "    <tr>\n",
       "      <th>0</th>\n",
       "      <td>abcdesevilla.es: Recio no tiene «indicios pote...</td>\n",
       "      <td>Negativa</td>\n",
       "    </tr>\n",
       "    <tr>\n",
       "      <th>1</th>\n",
       "      <td>abcdesevilla.es: Cuatro altos cargos de Empleo...</td>\n",
       "      <td>Negativa</td>\n",
       "    </tr>\n",
       "    <tr>\n",
       "      <th>2</th>\n",
       "      <td>La marcha atrás del PP en posponer devolución ...</td>\n",
       "      <td>Negativa</td>\n",
       "    </tr>\n",
       "    <tr>\n",
       "      <th>3</th>\n",
       "      <td>Accidente en BUS-VAO A-6 km. 12. Motorista de ...</td>\n",
       "      <td>Negativa</td>\n",
       "    </tr>\n",
       "    <tr>\n",
       "      <th>4</th>\n",
       "      <td>#FF a ti, que deseas desesperadamente hacerme ...</td>\n",
       "      <td>Negativa</td>\n",
       "    </tr>\n",
       "    <tr>\n",
       "      <th>...</th>\n",
       "      <td>...</td>\n",
       "      <td>...</td>\n",
       "    </tr>\n",
       "    <tr>\n",
       "      <th>13196</th>\n",
       "      <td>vivificantes</td>\n",
       "      <td>Positiva</td>\n",
       "    </tr>\n",
       "    <tr>\n",
       "      <th>13197</th>\n",
       "      <td>voluntariosa</td>\n",
       "      <td>Positiva</td>\n",
       "    </tr>\n",
       "    <tr>\n",
       "      <th>13198</th>\n",
       "      <td>voluntariosas</td>\n",
       "      <td>Positiva</td>\n",
       "    </tr>\n",
       "    <tr>\n",
       "      <th>13199</th>\n",
       "      <td>voluntarioso</td>\n",
       "      <td>Positiva</td>\n",
       "    </tr>\n",
       "    <tr>\n",
       "      <th>13200</th>\n",
       "      <td>voluntariosos</td>\n",
       "      <td>Positiva</td>\n",
       "    </tr>\n",
       "  </tbody>\n",
       "</table>\n",
       "<p>13201 rows × 2 columns</p>\n",
       "</div>"
      ],
      "text/plain": [
       "                                                sentence sentiment\n",
       "0      abcdesevilla.es: Recio no tiene «indicios pote...  Negativa\n",
       "1      abcdesevilla.es: Cuatro altos cargos de Empleo...  Negativa\n",
       "2      La marcha atrás del PP en posponer devolución ...  Negativa\n",
       "3      Accidente en BUS-VAO A-6 km. 12. Motorista de ...  Negativa\n",
       "4      #FF a ti, que deseas desesperadamente hacerme ...  Negativa\n",
       "...                                                  ...       ...\n",
       "13196                                       vivificantes  Positiva\n",
       "13197                                       voluntariosa  Positiva\n",
       "13198                                      voluntariosas  Positiva\n",
       "13199                                       voluntarioso  Positiva\n",
       "13200                                      voluntariosos  Positiva\n",
       "\n",
       "[13201 rows x 2 columns]"
      ]
     },
     "execution_count": 20,
     "metadata": {},
     "output_type": "execute_result"
    }
   ],
   "source": [
    "data = data.replace({'sentiment' : d1})\n",
    "data"
   ]
  },
  {
   "cell_type": "code",
   "execution_count": 22,
   "id": "49e4e7fb",
   "metadata": {},
   "outputs": [
    {
     "name": "stdout",
     "output_type": "stream",
     "text": [
      "<class 'pandas.core.frame.DataFrame'>\n",
      "RangeIndex: 13201 entries, 0 to 13200\n",
      "Data columns (total 2 columns):\n",
      " #   Column     Non-Null Count  Dtype \n",
      "---  ------     --------------  ----- \n",
      " 0   sentence   13201 non-null  object\n",
      " 1   sentiment  13201 non-null  object\n",
      "dtypes: object(2)\n",
      "memory usage: 206.4+ KB\n",
      "None\n",
      "\n",
      "(13201, 2)\n"
     ]
    },
    {
     "data": {
      "image/png": "[encoded data removed]",
      "text/plain": [
       "<Figure size 432x432 with 1 Axes>"
      ]
     },
     "metadata": {},
     "output_type": "display_data"
    }
   ],
   "source": [
    "import matplotlib.pyplot as plt\n",
    "print(data.info())\n",
    "print(\"\")\n",
    "print(data.shape)\n",
    "data['sentiment'].value_counts().plot.pie(figsize=(6,6),title=\"Distribution of reviews per sentiment\",labels=['',''],autopct='%1.1f%%')\n",
    "labels=[\"Positiva\",\"Negativa\"]\n",
    "plt.legend(labels,loc=3)\n",
    "plt.gca().set_aspect('equal')"
   ]
  },
  {
   "cell_type": "code",
   "execution_count": 23,
   "id": "82210668",
   "metadata": {},
   "outputs": [],
   "source": [
    "data.to_pickle('datasetExcel.pickle')"
   ]
  },
  {
   "cell_type": "code",
   "execution_count": null,
   "id": "265f686d",
   "metadata": {},
   "outputs": [],
   "source": []
  }
 ],
 "metadata": {
  "kernelspec": {
   "display_name": "Python 3",
   "language": "python",
   "name": "python3"
  },
  "language_info": {
   "codemirror_mode": {
    "name": "ipython",
    "version": 3
   },
   "file_extension": ".py",
   "mimetype": "text/x-python",
   "name": "python",
   "nbconvert_exporter": "python",
   "pygments_lexer": "ipython3",
   "version": "3.9.5"
  }
 },
 "nbformat": 4,
 "nbformat_minor": 5
}
