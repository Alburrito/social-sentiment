{
 "cells": [
  {
   "cell_type": "code",
   "execution_count": 1,
   "metadata": {},
   "outputs": [
    {
     "name": "stderr",
     "output_type": "stream",
     "text": [
      "[nltk_data] Downloading package stopwords to\n",
      "[nltk_data]     /home/ajburri/nltk_data...\n",
      "[nltk_data]   Package stopwords is already up-to-date!\n"
     ]
    }
   ],
   "source": [
    "import numpy as np\n",
    "import pandas as pd\n",
    "import matplotlib.pyplot as plt\n",
    "import nltk\n",
    "nltk.download('stopwords')\n",
    "from nltk.corpus import stopwords\n",
    "import re\n",
    "import spacy\n",
    "from spacy.lang.es.stop_words import STOP_WORDS\n",
    "from sklearn.model_selection import train_test_split\n",
    "from sklearn.feature_extraction.text import TfidfVectorizer\n",
    "import pickle\n",
    "from sklearn.ensemble import RandomForestClassifier\n",
    "from sklearn.model_selection import GridSearchCV\n",
    "stop_words = stopwords.words('spanish')+list(STOP_WORDS)"
   ]
  },
  {
   "cell_type": "code",
   "execution_count": 2,
   "metadata": {},
   "outputs": [
    {
     "data": {
      "text/html": [
       "<div>\n",
       "<style scoped>\n",
       "    .dataframe tbody tr th:only-of-type {\n",
       "        vertical-align: middle;\n",
       "    }\n",
       "\n",
       "    .dataframe tbody tr th {\n",
       "        vertical-align: top;\n",
       "    }\n",
       "\n",
       "    .dataframe thead th {\n",
       "        text-align: right;\n",
       "    }\n",
       "</style>\n",
       "<table border=\"1\" class=\"dataframe\">\n",
       "  <thead>\n",
       "    <tr style=\"text-align: right;\">\n",
       "      <th></th>\n",
       "      <th>sentence</th>\n",
       "      <th>sentiment</th>\n",
       "    </tr>\n",
       "  </thead>\n",
       "  <tbody>\n",
       "    <tr>\n",
       "      <th>0</th>\n",
       "      <td>NECESITAMOS #ACOGIDA RESPONSABLE PARA WOLF. PO...</td>\n",
       "      <td>Neutra</td>\n",
       "    </tr>\n",
       "    <tr>\n",
       "      <th>1</th>\n",
       "      <td>Internacional de Porto Alegre habría llegado a...</td>\n",
       "      <td>Neutra</td>\n",
       "    </tr>\n",
       "    <tr>\n",
       "      <th>2</th>\n",
       "      <td>Que alegre está!!💕💕😘😘🦋🦋\\n@dmtzdmr https://t.co...</td>\n",
       "      <td>Positiva</td>\n",
       "    </tr>\n",
       "    <tr>\n",
       "      <th>3</th>\n",
       "      <td>Estoy triste quiero tatuarme</td>\n",
       "      <td>Negativa</td>\n",
       "    </tr>\n",
       "    <tr>\n",
       "      <th>4</th>\n",
       "      <td>ㅤ\\n\\n             Soñé que al fin\\n       volv...</td>\n",
       "      <td>Negativa</td>\n",
       "    </tr>\n",
       "  </tbody>\n",
       "</table>\n",
       "</div>"
      ],
      "text/plain": [
       "                                            sentence sentiment\n",
       "0  NECESITAMOS #ACOGIDA RESPONSABLE PARA WOLF. PO...    Neutra\n",
       "1  Internacional de Porto Alegre habría llegado a...    Neutra\n",
       "2  Que alegre está!!💕💕😘😘🦋🦋\\n@dmtzdmr https://t.co...  Positiva\n",
       "3                       Estoy triste quiero tatuarme  Negativa\n",
       "4  ㅤ\\n\\n             Soñé que al fin\\n       volv...  Negativa"
      ]
     },
     "execution_count": 2,
     "metadata": {},
     "output_type": "execute_result"
    }
   ],
   "source": [
    "df = pd.read_csv(\"og_dataset.csv\", index_col = 0)\n",
    "df.head()"
   ]
  },
  {
   "cell_type": "code",
   "execution_count": 3,
   "metadata": {},
   "outputs": [],
   "source": [
    "df = df.dropna()"
   ]
  },
  {
   "cell_type": "code",
   "execution_count": 4,
   "metadata": {},
   "outputs": [
    {
     "name": "stdout",
     "output_type": "stream",
     "text": [
      "<class 'pandas.core.frame.DataFrame'>\n",
      "Index: 23132 entries, 0 to 23132\n",
      "Data columns (total 2 columns):\n",
      " #   Column     Non-Null Count  Dtype \n",
      "---  ------     --------------  ----- \n",
      " 0   sentence   23132 non-null  object\n",
      " 1   sentiment  23132 non-null  object\n",
      "dtypes: object(2)\n",
      "memory usage: 542.2+ KB\n",
      "None\n",
      "\n",
      "(23132, 2)\n"
     ]
    },
    {
     "data": {
      "image/png": "[encoded data removed]",
      "text/plain": [
       "<Figure size 432x432 with 1 Axes>"
      ]
     },
     "metadata": {},
     "output_type": "display_data"
    }
   ],
   "source": [
    "print(df.info())\n",
    "print(\"\")\n",
    "print(df.shape)\n",
    "df['sentiment'].value_counts().plot.pie(figsize=(6,6),title=\"Distribution of reviews per sentiment\",labels=['','',''],autopct='%1.1f%%')\n",
    "labels=[\"Positiva\",\"Negativa\",\"Neutra\"]\n",
    "plt.legend(labels,loc=3)\n",
    "plt.gca().set_aspect('equal')"
   ]
  },
  {
   "cell_type": "code",
   "execution_count": 5,
   "metadata": {},
   "outputs": [],
   "source": [
    "def only_words(sentence):\n",
    "    url_reg = re.compile(r'http[s]?://(?:[a-zA-Z]|[0-9]|[$-_@.&+]|[!*\\(\\),]|(?:%[0-9a-fA-F][0-9a-fA-F]))+')\n",
    "    html_reg = re.compile(r'<.*?>|&([a-z0-9]+|#[0-9]{1,6}|#x[0-9a-f]{1,6});')\n",
    "    spaces_reg = re.compile(r'[ ]{2,}')\n",
    "    \n",
    "    try:\n",
    "      result = url_reg.sub('', sentence)\n",
    "    except Exception as e:\n",
    "      print(sentence)\n",
    "    result = html_reg.sub('', result)\n",
    "    result = spaces_reg.sub('', result)\n",
    "    result = re.findall(r'\\w+', result)\n",
    "    result = [''.join(x for x in i if x.isalpha()) for i in result]\n",
    "    result = ' '.join(result)\n",
    "    \n",
    "    return result"
   ]
  },
  {
   "cell_type": "code",
   "execution_count": 6,
   "metadata": {},
   "outputs": [],
   "source": [
    "nlp = spacy.load('es_core_news_md')\n",
    "\n",
    "def remove_stop_words(sentence):\n",
    "    result = \"\"\n",
    "    if sentence != None:\n",
    "        sentence = sentence.split(\" \")\n",
    "        result = list(\n",
    "        filter(lambda l: (l not in stop_words and len(l) > 2), sentence))\n",
    "        result = ' '.join(result)\n",
    "    return result"
   ]
  },
  {
   "cell_type": "code",
   "execution_count": 7,
   "metadata": {},
   "outputs": [],
   "source": [
    "def lematize(sentence):\n",
    "    doc = nlp(sentence)\n",
    "    result = \"\"\n",
    "    i = 1\n",
    "    for token in doc:\n",
    "        if i == len(doc):\n",
    "            result += token.lemma_\n",
    "        else:\n",
    "            result += token.lemma_ + \" \"\n",
    "        i+=1\n",
    "    return result"
   ]
  },
  {
   "cell_type": "code",
   "execution_count": 8,
   "metadata": {},
   "outputs": [],
   "source": [
    "def remove_accents(sentence):\n",
    "    replacements = {\n",
    "        \"á\" : \"a\",\n",
    "        \"é\" : \"e\",\n",
    "        \"í\" : \"i\",\n",
    "        \"ó\" : \"o\",\n",
    "        \"ú\" : \"u\",\n",
    "    }\n",
    "    for i,j in replacements.items():\n",
    "        sentence = sentence.replace (i,j)\n",
    "    return sentence"
   ]
  },
  {
   "cell_type": "code",
   "execution_count": 9,
   "metadata": {},
   "outputs": [],
   "source": [
    "def tokenize(dataframe):\n",
    "    data = dataframe.copy()\n",
    "    data['tokens'] = data['sentence'].str.lower()\n",
    "    data['tokens'] = data['tokens'].apply(only_words)\n",
    "    data['tokens'] = data['tokens'].apply(remove_stop_words)\n",
    "    data['tokens'] = data['tokens'].apply(lematize)\n",
    "    data['tokens'] = data['tokens'].apply(remove_accents)\n",
    "    return data"
   ]
  },
  {
   "cell_type": "code",
   "execution_count": 10,
   "metadata": {},
   "outputs": [
    {
     "data": {
      "text/html": [
       "<div>\n",
       "<style scoped>\n",
       "    .dataframe tbody tr th:only-of-type {\n",
       "        vertical-align: middle;\n",
       "    }\n",
       "\n",
       "    .dataframe tbody tr th {\n",
       "        vertical-align: top;\n",
       "    }\n",
       "\n",
       "    .dataframe thead th {\n",
       "        text-align: right;\n",
       "    }\n",
       "</style>\n",
       "<table border=\"1\" class=\"dataframe\">\n",
       "  <thead>\n",
       "    <tr style=\"text-align: right;\">\n",
       "      <th></th>\n",
       "      <th>sentence</th>\n",
       "      <th>sentiment</th>\n",
       "      <th>tokens</th>\n",
       "    </tr>\n",
       "  </thead>\n",
       "  <tbody>\n",
       "    <tr>\n",
       "      <th>0</th>\n",
       "      <td>NECESITAMOS #ACOGIDA RESPONSABLE PARA WOLF. PO...</td>\n",
       "      <td>Neutra</td>\n",
       "      <td>necesitar acogido responsable wolf asunto lega...</td>\n",
       "    </tr>\n",
       "    <tr>\n",
       "      <th>1</th>\n",
       "      <td>Internacional de Porto Alegre habría llegado a...</td>\n",
       "      <td>Neutra</td>\n",
       "      <td>internacional porto alegre llegado fichar mart...</td>\n",
       "    </tr>\n",
       "    <tr>\n",
       "      <th>2</th>\n",
       "      <td>Que alegre está!!💕💕😘😘🦋🦋\\n@dmtzdmr https://t.co...</td>\n",
       "      <td>Positiva</td>\n",
       "      <td>alegre dmtzdmr</td>\n",
       "    </tr>\n",
       "    <tr>\n",
       "      <th>3</th>\n",
       "      <td>Estoy triste quiero tatuarme</td>\n",
       "      <td>Negativa</td>\n",
       "      <td>triste querer tatuar yo</td>\n",
       "    </tr>\n",
       "    <tr>\n",
       "      <th>4</th>\n",
       "      <td>ㅤ\\n\\n             Soñé que al fin\\n       volv...</td>\n",
       "      <td>Negativa</td>\n",
       "      <td>soñar volver abrazar yo despertar parecer triste</td>\n",
       "    </tr>\n",
       "  </tbody>\n",
       "</table>\n",
       "</div>"
      ],
      "text/plain": [
       "                                            sentence sentiment  \\\n",
       "0  NECESITAMOS #ACOGIDA RESPONSABLE PARA WOLF. PO...    Neutra   \n",
       "1  Internacional de Porto Alegre habría llegado a...    Neutra   \n",
       "2  Que alegre está!!💕💕😘😘🦋🦋\\n@dmtzdmr https://t.co...  Positiva   \n",
       "3                       Estoy triste quiero tatuarme  Negativa   \n",
       "4  ㅤ\\n\\n             Soñé que al fin\\n       volv...  Negativa   \n",
       "\n",
       "                                              tokens  \n",
       "0  necesitar acogido responsable wolf asunto lega...  \n",
       "1  internacional porto alegre llegado fichar mart...  \n",
       "2                                     alegre dmtzdmr  \n",
       "3                            triste querer tatuar yo  \n",
       "4   soñar volver abrazar yo despertar parecer triste  "
      ]
     },
     "execution_count": 10,
     "metadata": {},
     "output_type": "execute_result"
    }
   ],
   "source": [
    "df = tokenize(df)\n",
    "df.head()"
   ]
  },
  {
   "cell_type": "code",
   "execution_count": 11,
   "metadata": {},
   "outputs": [
    {
     "data": {
      "text/html": [
       "<div>\n",
       "<style scoped>\n",
       "    .dataframe tbody tr th:only-of-type {\n",
       "        vertical-align: middle;\n",
       "    }\n",
       "\n",
       "    .dataframe tbody tr th {\n",
       "        vertical-align: top;\n",
       "    }\n",
       "\n",
       "    .dataframe thead th {\n",
       "        text-align: right;\n",
       "    }\n",
       "</style>\n",
       "<table border=\"1\" class=\"dataframe\">\n",
       "  <thead>\n",
       "    <tr style=\"text-align: right;\">\n",
       "      <th></th>\n",
       "      <th>sentence</th>\n",
       "      <th>sentiment</th>\n",
       "      <th>tokens</th>\n",
       "      <th>sentiment_code</th>\n",
       "    </tr>\n",
       "  </thead>\n",
       "  <tbody>\n",
       "    <tr>\n",
       "      <th>0</th>\n",
       "      <td>NECESITAMOS #ACOGIDA RESPONSABLE PARA WOLF. PO...</td>\n",
       "      <td>Neutra</td>\n",
       "      <td>necesitar acogido responsable wolf asunto lega...</td>\n",
       "      <td>0</td>\n",
       "    </tr>\n",
       "    <tr>\n",
       "      <th>1</th>\n",
       "      <td>Internacional de Porto Alegre habría llegado a...</td>\n",
       "      <td>Neutra</td>\n",
       "      <td>internacional porto alegre llegado fichar mart...</td>\n",
       "      <td>0</td>\n",
       "    </tr>\n",
       "    <tr>\n",
       "      <th>2</th>\n",
       "      <td>Que alegre está!!💕💕😘😘🦋🦋\\n@dmtzdmr https://t.co...</td>\n",
       "      <td>Positiva</td>\n",
       "      <td>alegre dmtzdmr</td>\n",
       "      <td>1</td>\n",
       "    </tr>\n",
       "    <tr>\n",
       "      <th>3</th>\n",
       "      <td>Estoy triste quiero tatuarme</td>\n",
       "      <td>Negativa</td>\n",
       "      <td>triste querer tatuar yo</td>\n",
       "      <td>-1</td>\n",
       "    </tr>\n",
       "    <tr>\n",
       "      <th>4</th>\n",
       "      <td>ㅤ\\n\\n             Soñé que al fin\\n       volv...</td>\n",
       "      <td>Negativa</td>\n",
       "      <td>soñar volver abrazar yo despertar parecer triste</td>\n",
       "      <td>-1</td>\n",
       "    </tr>\n",
       "  </tbody>\n",
       "</table>\n",
       "</div>"
      ],
      "text/plain": [
       "                                            sentence sentiment  \\\n",
       "0  NECESITAMOS #ACOGIDA RESPONSABLE PARA WOLF. PO...    Neutra   \n",
       "1  Internacional de Porto Alegre habría llegado a...    Neutra   \n",
       "2  Que alegre está!!💕💕😘😘🦋🦋\\n@dmtzdmr https://t.co...  Positiva   \n",
       "3                       Estoy triste quiero tatuarme  Negativa   \n",
       "4  ㅤ\\n\\n             Soñé que al fin\\n       volv...  Negativa   \n",
       "\n",
       "                                              tokens  sentiment_code  \n",
       "0  necesitar acogido responsable wolf asunto lega...               0  \n",
       "1  internacional porto alegre llegado fichar mart...               0  \n",
       "2                                     alegre dmtzdmr               1  \n",
       "3                            triste querer tatuar yo              -1  \n",
       "4   soñar volver abrazar yo despertar parecer triste              -1  "
      ]
     },
     "execution_count": 11,
     "metadata": {},
     "output_type": "execute_result"
    }
   ],
   "source": [
    "codes = {\n",
    "    'Positiva': 1,\n",
    "    'Neutra': 0,\n",
    "    'Negativa' : -1\n",
    "}\n",
    "df['sentiment_code'] = df['sentiment']\n",
    "df = df.replace({'sentiment_code' : codes})\n",
    "df.head()"
   ]
  },
  {
   "cell_type": "code",
   "execution_count": 12,
   "metadata": {},
   "outputs": [],
   "source": [
    "df.to_csv(\"og_tokenized.csv\")"
   ]
  },
  {
   "cell_type": "code",
   "execution_count": 13,
   "metadata": {},
   "outputs": [],
   "source": [
    "X_train, X_test, y_train, y_test = train_test_split(df['tokens'],\n",
    "                                                    df['sentiment_code'],\n",
    "                                                    test_size=0.10)"
   ]
  },
  {
   "cell_type": "code",
   "execution_count": 14,
   "metadata": {},
   "outputs": [],
   "source": [
    "tfidf = TfidfVectorizer(encoding='utf-8',\n",
    "                        max_features=10000,\n",
    "                        norm='l2',\n",
    "                        sublinear_tf=True)"
   ]
  },
  {
   "cell_type": "code",
   "execution_count": 15,
   "metadata": {},
   "outputs": [],
   "source": [
    "features_train = tfidf.fit_transform(X_train).toarray()\n",
    "labels_train = y_train\n",
    "features_test = tfidf.transform(X_test).toarray()\n",
    "labels_test = y_test"
   ]
  },
  {
   "cell_type": "code",
   "execution_count": 16,
   "metadata": {},
   "outputs": [],
   "source": [
    "with open('tfidf.pickle', 'wb') as file_tfidf:\n",
    "    pickle.dump(tfidf, file_tfidf)"
   ]
  },
  {
   "cell_type": "code",
   "execution_count": 17,
   "metadata": {},
   "outputs": [
    {
     "data": {
      "text/plain": [
       "{'bootstrap': True,\n",
       " 'ccp_alpha': 0.0,\n",
       " 'class_weight': None,\n",
       " 'criterion': 'gini',\n",
       " 'max_depth': None,\n",
       " 'max_features': 'auto',\n",
       " 'max_leaf_nodes': None,\n",
       " 'max_samples': None,\n",
       " 'min_impurity_decrease': 0.0,\n",
       " 'min_impurity_split': None,\n",
       " 'min_samples_leaf': 1,\n",
       " 'min_samples_split': 2,\n",
       " 'min_weight_fraction_leaf': 0.0,\n",
       " 'n_estimators': 100,\n",
       " 'n_jobs': None,\n",
       " 'oob_score': False,\n",
       " 'random_state': None,\n",
       " 'verbose': 0,\n",
       " 'warm_start': False}"
      ]
     },
     "execution_count": 17,
     "metadata": {},
     "output_type": "execute_result"
    }
   ],
   "source": [
    "rfc = RandomForestClassifier()\n",
    "rfc.get_params()"
   ]
  },
  {
   "cell_type": "code",
   "execution_count": 18,
   "metadata": {},
   "outputs": [],
   "source": [
    "params = {\n",
    "    'bootstrap': [True],\n",
    "    'criterion': ['gini', 'entropy'],\n",
    "    'max_features': ['auto', 'sqrt', 'log2'],\n",
    "    'n_estimators': [10,50,100],\n",
    "}"
   ]
  },
  {
   "cell_type": "code",
   "execution_count": 19,
   "metadata": {},
   "outputs": [
    {
     "name": "stdout",
     "output_type": "stream",
     "text": [
      "{'bootstrap': True, 'criterion': 'gini', 'max_features': 'log2', 'n_estimators': 100}\n",
      "[0.6615429  0.67148621 0.67182246 0.65966952 0.66927659 0.67081372\n",
      " 0.66120665 0.67864348 0.68022865 0.66043808 0.66946873 0.67143818\n",
      " 0.66231146 0.66903641 0.67167836 0.66437698 0.67638582 0.68022865]\n"
     ]
    }
   ],
   "source": [
    "gridsearch = GridSearchCV(estimator = rfc,\n",
    "                          param_grid = params,\n",
    "                          cv = 2,\n",
    "                          n_jobs = 1)\n",
    "\n",
    "gridsearch.fit(features_train, labels_train)\n",
    "print(gridsearch.best_params_)\n",
    "print(gridsearch.cv_results_['mean_test_score'])\n"
   ]
  },
  {
   "cell_type": "code",
   "execution_count": 26,
   "metadata": {},
   "outputs": [
    {
     "data": {
      "text/plain": [
       "RandomForestClassifier(max_features='log2')"
      ]
     },
     "execution_count": 26,
     "metadata": {},
     "output_type": "execute_result"
    }
   ],
   "source": [
    "rfc = RandomForestClassifier(bootstrap= True, criterion= 'gini', max_features= 'log2', n_estimators= 100)\n",
    "rfc.fit(features_train, labels_train)"
   ]
  },
  {
   "cell_type": "code",
   "execution_count": 27,
   "metadata": {},
   "outputs": [
    {
     "name": "stdout",
     "output_type": "stream",
     "text": [
      "0.7057044079515989\n"
     ]
    }
   ],
   "source": [
    "prediction = rfc.predict(features_test)\n",
    "print(rfc.score(features_test, labels_test))"
   ]
  },
  {
   "cell_type": "code",
   "execution_count": 28,
   "metadata": {},
   "outputs": [],
   "source": [
    "with open('rfc.pickle', 'wb') as file_rfc:\n",
    "    pickle.dump(rfc, file_rfc)"
   ]
  },
  {
   "cell_type": "code",
   "execution_count": null,
   "metadata": {},
   "outputs": [],
   "source": []
  }
 ],
 "metadata": {
  "kernelspec": {
   "display_name": "Python 3",
   "language": "python",
   "name": "python3"
  },
  "language_info": {
   "codemirror_mode": {
    "name": "ipython",
    "version": 3
   },
   "file_extension": ".py",
   "mimetype": "text/x-python",
   "name": "python",
   "nbconvert_exporter": "python",
   "pygments_lexer": "ipython3",
   "version": "3.9.5"
  }
 },
 "nbformat": 4,
 "nbformat_minor": 5
}